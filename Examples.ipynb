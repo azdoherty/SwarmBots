{
 "cells": [
  {
   "cell_type": "code",
   "execution_count": null,
   "metadata": {
    "collapsed": true
   },
   "outputs": [],
   "source": [
    "%matplotlib inline\n",
    "\n",
    "import numpy as np\n",
    "import Filters\n",
    "import VirtualBug\n",
    "from matplotlib import pyplot as plt\n"
   ]
  },
  {
   "cell_type": "markdown",
   "metadata": {},
   "source": [
    "This is an example of how an EKF using a 4 dimensional state vector can track an object moving around in 2d space. The states are x and y position as well as velocity. The state vector is (x, \\dot{x}, y, \\dot{y}) and the jacobian is:\n",
    "\n",
    "\t\t\t     \\matrix{[1.0, 0.0, 1.0, 0.0],\n",
    "                             [0.0, 1.0,  0.0, 1.0],\n",
    "                             [0.0, 0.0, 1.0, 0.0],\n",
    "                             [0.0, 0.0, 0.0, 1.0]}"
   ]
  },
  {
   "cell_type": "code",
   "execution_count": null,
   "metadata": {},
   "outputs": [],
   "source": [
    "nmoves = 200\n",
    "bugPositions = np.zeros((nmoves, 2))\n",
    "trackedPositins  = np.zeros((nmoves, 2))\n",
    "testBug = VirtualBug.VirtualBug()\n",
    "kf = None\n",
    "for i in range(nmoves):\n",
    "    bugPositions[i, :] = np.array([testBug.x, testBug.y])\n",
    "    if i == 2:\n",
    "        kf = Filters.Kalman(bugPositions[0, 0], bugPositions[0, 1], bugPositions[1, 0], bugPositions[1, 1])\n",
    "    if i > 2:\n",
    "        trackedPositins[i, 0] = kf.X[0]\n",
    "        trackedPositins[i, 1] = kf.X[1]\n",
    "        kf.updatePredict(bugPositions[i, :])\n",
    "    testBug.move()\n",
    "\n",
    "plt.figure()\n",
    "plt.title(\"Bug position tracking test\")\n",
    "plt.xlabel(\"x\")\n",
    "plt.ylabel(\"y\")\n",
    "plt.plot(bugPositions[:, 0], bugPositions[:, 1], 'b-', label=\"Bug\")\n",
    "plt.plot(trackedPositins[:, 0], trackedPositins[:, 1], 'r--', label=\"Tracked\")\n",
    "plt.legend()"
   ]
  }
 ],
 "metadata": {
  "kernelspec": {
   "display_name": "Python 2",
   "language": "python",
   "name": "python2"
  },
  "language_info": {
   "codemirror_mode": {
    "name": "ipython",
    "version": 2
   },
   "file_extension": ".py",
   "mimetype": "text/x-python",
   "name": "python",
   "nbconvert_exporter": "python",
   "pygments_lexer": "ipython2",
   "version": "2.7.6"
  }
 },
 "nbformat": 4,
 "nbformat_minor": 0
}
