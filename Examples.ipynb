{
 "cells": [
  {
   "cell_type": "code",
   "execution_count": 1,
   "metadata": {
    "collapsed": true
   },
   "outputs": [],
   "source": [
    "import numpy as np\n",
    "import Filters\n",
    "import VirtualBug\n",
    "from matplotlib import pyplot as plt\n",
    "%matplotlib inline"
   ]
  },
  {
   "cell_type": "markdown",
   "metadata": {},
   "source": [
    "This is an example of how an EKF using a 4 dimensional state vector can track an object moving around in 2d space. The states are x and y position as well as velocity. The state vector is $$(x, \\dot{x}, y, \\dot{y})$$ and the jacobian is:\n",
    "\\begin{bmatrix}\n",
    " 1& 0 & 1 & 0\\\\ \n",
    " 0& 1 & 0 & 1\\\\ \n",
    " 0& 0 & 1 & 0\\\\ \n",
    " 0& 0 & 0 & 1\n",
    "\\end{bmatrix}"
   ]
  },
  {
   "cell_type": "code",
   "execution_count": null,
   "metadata": {},
   "outputs": [
    {
     "ename": "NameError",
     "evalue": "name 'np' is not defined",
     "output_type": "error",
     "traceback": [
      "\u001b[1;31m---------------------------------------------------------------------------\u001b[0m",
      "\u001b[1;31mNameError\u001b[0m                                 Traceback (most recent call last)",
      "\u001b[1;32m<ipython-input-1-5b4077b3ecd2>\u001b[0m in \u001b[0;36m<module>\u001b[1;34m()\u001b[0m\n\u001b[0;32m      1\u001b[0m \u001b[0mnmoves\u001b[0m \u001b[1;33m=\u001b[0m \u001b[1;36m200\u001b[0m\u001b[1;33m\u001b[0m\u001b[0m\n\u001b[1;32m----> 2\u001b[1;33m \u001b[0mbugPositions\u001b[0m \u001b[1;33m=\u001b[0m \u001b[0mnp\u001b[0m\u001b[1;33m.\u001b[0m\u001b[0mzeros\u001b[0m\u001b[1;33m(\u001b[0m\u001b[1;33m(\u001b[0m\u001b[0mnmoves\u001b[0m\u001b[1;33m,\u001b[0m \u001b[1;36m2\u001b[0m\u001b[1;33m)\u001b[0m\u001b[1;33m)\u001b[0m\u001b[1;33m\u001b[0m\u001b[0m\n\u001b[0m\u001b[0;32m      3\u001b[0m \u001b[0mtrackedPositins\u001b[0m  \u001b[1;33m=\u001b[0m \u001b[0mnp\u001b[0m\u001b[1;33m.\u001b[0m\u001b[0mzeros\u001b[0m\u001b[1;33m(\u001b[0m\u001b[1;33m(\u001b[0m\u001b[0mnmoves\u001b[0m\u001b[1;33m,\u001b[0m \u001b[1;36m2\u001b[0m\u001b[1;33m)\u001b[0m\u001b[1;33m)\u001b[0m\u001b[1;33m\u001b[0m\u001b[0m\n\u001b[0;32m      4\u001b[0m \u001b[0mtestBug\u001b[0m \u001b[1;33m=\u001b[0m \u001b[0mVirtualBug\u001b[0m\u001b[1;33m.\u001b[0m\u001b[0mVirtualBug\u001b[0m\u001b[1;33m(\u001b[0m\u001b[1;33m)\u001b[0m\u001b[1;33m\u001b[0m\u001b[0m\n\u001b[0;32m      5\u001b[0m \u001b[0mkf\u001b[0m \u001b[1;33m=\u001b[0m \u001b[1;32mNone\u001b[0m\u001b[1;33m\u001b[0m\u001b[0m\n",
      "\u001b[1;31mNameError\u001b[0m: name 'np' is not defined"
     ]
    }
   ],
   "source": [
    "nmoves = 200\n",
    "bugPositions = np.zeros((nmoves, 2))\n",
    "trackedPositins  = np.zeros((nmoves, 2))\n",
    "testBug = VirtualBug.VirtualBug()\n",
    "kf = None\n",
    "for i in range(nmoves):\n",
    "    bugPositions[i, :] = np.array([testBug.x, testBug.y])\n",
    "    if i == 2:\n",
    "        kf = Filters.Kalman(bugPositions[0, 0], bugPositions[0, 1], bugPositions[1, 0], bugPositions[1, 1])\n",
    "    if i > 2:\n",
    "        trackedPositins[i, 0] = kf.X[0]\n",
    "        trackedPositins[i, 1] = kf.X[1]\n",
    "        kf.updatePredict(bugPositions[i, :])\n",
    "    testBug.move()\n",
    "\n",
    "plt.figure()\n",
    "plt.title(\"Bug position tracking test\")\n",
    "plt.xlabel(\"x\")\n",
    "plt.ylabel(\"y\")\n",
    "plt.plot(bugPositions[:, 0], bugPositions[:, 1], 'b-', label=\"Bug\")\n",
    "plt.plot(trackedPositins[:, 0], trackedPositins[:, 1], 'r--', label=\"Tracked\")\n",
    "plt.legend()\n",
    "plt.show()"
   ]
  },
  {
   "cell_type": "code",
   "execution_count": null,
   "metadata": {},
   "outputs": [],
   "source": []
  }
 ],
 "metadata": {
  "kernelspec": {
   "display_name": "Python 3",
   "language": "python",
   "name": "python3"
  },
  "language_info": {
   "codemirror_mode": {
    "name": "ipython",
    "version": 3
   },
   "file_extension": ".py",
   "mimetype": "text/x-python",
   "name": "python",
   "nbconvert_exporter": "python",
   "pygments_lexer": "ipython3",
   "version": "3.6.4"
  }
 },
 "nbformat": 4,
 "nbformat_minor": 1
}
